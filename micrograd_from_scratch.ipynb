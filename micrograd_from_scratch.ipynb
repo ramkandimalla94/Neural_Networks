{
 "cells": [
  {
   "cell_type": "code",
   "execution_count": 1,
   "id": "aad3d474",
   "metadata": {},
   "outputs": [],
   "source": [
    "import math\n",
    "import numpy as np\n",
    "import matplotlib.pyplot as plt\n",
    "%matplotlib inline"
   ]
  },
  {
   "cell_type": "markdown",
   "id": "3b7260df",
   "metadata": {},
   "source": [
    "### Just a random function to understand derivaties"
   ]
  },
  {
   "cell_type": "code",
   "execution_count": 2,
   "id": "1a951a98",
   "metadata": {},
   "outputs": [],
   "source": [
    "def f(x):\n",
    "    return 3*x**2 - 4*x + 5"
   ]
  },
  {
   "cell_type": "code",
   "execution_count": 3,
   "id": "bd6723f0",
   "metadata": {},
   "outputs": [
    {
     "data": {
      "text/plain": [
       "1500"
      ]
     },
     "execution_count": 3,
     "metadata": {},
     "output_type": "execute_result"
    }
   ],
   "source": [
    "f(23)"
   ]
  },
  {
   "cell_type": "code",
   "execution_count": 4,
   "id": "7bc0af41",
   "metadata": {},
   "outputs": [
    {
     "data": {
      "text/plain": [
       "[<matplotlib.lines.Line2D at 0x11ad8bca0>]"
      ]
     },
     "execution_count": 4,
     "metadata": {},
     "output_type": "execute_result"
    },
    {
     "data": {
      "image/png": "[encoded data removed]",
      "text/plain": [
       "<Figure size 640x480 with 1 Axes>"
      ]
     },
     "metadata": {},
     "output_type": "display_data"
    }
   ],
   "source": [
    "xs = np.arange(-23,23,0.25)\n",
    "ys = f(xs)\n",
    "plt.plot(xs,ys)"
   ]
  },
  {
   "cell_type": "code",
   "execution_count": 5,
   "id": "a297dc46",
   "metadata": {},
   "outputs": [
    {
     "data": {
      "text/plain": [
       "14.210854715202004"
      ]
     },
     "execution_count": 5,
     "metadata": {},
     "output_type": "execute_result"
    }
   ],
   "source": [
    "# play around these values at,\n",
    "# h with very small you end up getting 0 as float points representations will be messing up \n",
    "# eg: h =  0.000000000000000000000001 \n",
    "\n",
    "h = 0.00000000000001 \n",
    "x = 3.0\n",
    "(f(x+h) - f(x))/h"
   ]
  },
  {
   "cell_type": "code",
   "execution_count": 6,
   "id": "8c5e0733",
   "metadata": {},
   "outputs": [],
   "source": [
    "# now lets take a bit complex example "
   ]
  },
  {
   "cell_type": "code",
   "execution_count": 7,
   "id": "454210d6",
   "metadata": {},
   "outputs": [
    {
     "name": "stdout",
     "output_type": "stream",
     "text": [
      "4.0\n"
     ]
    }
   ],
   "source": [
    "a = 2.0\n",
    "b = -3.0\n",
    "c = 10.0\n",
    "d = a*b + c\n",
    "print(d)"
   ]
  },
  {
   "cell_type": "code",
   "execution_count": 8,
   "id": "0aab74b0",
   "metadata": {},
   "outputs": [
    {
     "name": "stdout",
     "output_type": "stream",
     "text": [
      "d1 4.0\n",
      "d2 4.00002\n",
      "slope 2.0000000000131024\n"
     ]
    }
   ],
   "source": [
    "h = 0.00001\n",
    "\n",
    "# inputs\n",
    "a = 2.0\n",
    "b = -3.0\n",
    "c = 10.0\n",
    "\n",
    "d1 = a*b + c\n",
    "b += h\n",
    "d2 = a*b + c\n",
    "\n",
    "print('d1',d1)\n",
    "print('d2',d2)\n",
    "print('slope', (d2-d1)/h)"
   ]
  },
  {
   "cell_type": "code",
   "execution_count": 34,
   "id": "4eb9cde0",
   "metadata": {},
   "outputs": [],
   "source": [
    "class Value:\n",
    "    \n",
    "    def __init__(self, data, _children =(), _op = '', label=''):\n",
    "        self.data = data\n",
    "        self._prev = set(_children)\n",
    "        self._op = _op\n",
    "        self.label = label\n",
    "        self.grad = 0.0\n",
    "        \n",
    "    # Python repr() Function returns a printable representation of an object in Python.\n",
    "    # Try commenting below funtion to understand its effects\n",
    "    def __repr__(self):\n",
    "        return f\"Value(data={self.data})\"\n",
    "    \n",
    "    \n",
    "    \n",
    "    # The __add__() method in Python specifies what happens when you call + on two objects. \n",
    "    # When you call obj1 + obj2, you are essentially calling obj1.__add__(obj2).\n",
    "    def __add__(self,other):\n",
    "        out = Value(self.data + other.data, (self,other), '+')\n",
    "        return out\n",
    "    \n",
    "    \n",
    "    # The Python __mul__() method is called to implement the arithmetic multiplication operation *. \n",
    "    # For example to evaluate the expression x * y, Python attempts to call x.__mul__(y).\n",
    "    def __mul__(self,other):\n",
    "        out = Value(self.data * other.data, (self,other), '*')\n",
    "        return out\n",
    "    \n",
    "    \n"
   ]
  },
  {
   "cell_type": "code",
   "execution_count": 35,
   "id": "712a9d35",
   "metadata": {},
   "outputs": [
    {
     "name": "stdout",
     "output_type": "stream",
     "text": [
      "Value(data=5.0)\n",
      "Value(data=5.0)\n",
      "Value(data=6.0)\n",
      "Value(data=6.0)\n",
      "Value(data=10.0)\n",
      "Value(data=10.0)\n",
      "Value(data=6.0)\n",
      "{Value(data=2.0), Value(data=3.0)}\n",
      "*\n"
     ]
    }
   ],
   "source": [
    "a = Value(2.0, label = 'a')\n",
    "b = Value(3.0,label = 'b')\n",
    "c = Value(4.0,label = 'c')\n",
    "\n",
    "print(a+b)\n",
    "print(a.__add__(b))\n",
    "\n",
    "print(a*b)\n",
    "print(a.__mul__(b))\n",
    "\n",
    "print(a*b + c)\n",
    "print(a.__mul__(b).__add__(c))\n",
    "\n",
    "d = a*b\n",
    "d.label = 'd'\n",
    "e = d + c\n",
    "e.label = 'e'\n",
    "\n",
    "f = Value(-3, label = 'f')\n",
    "L = e* f\n",
    "L.label = 'L'\n",
    "\n",
    "print(d)\n",
    "print(d._prev)\n",
    "print(d._op)"
   ]
  },
  {
   "cell_type": "code",
   "execution_count": 36,
   "id": "047b49c5",
   "metadata": {},
   "outputs": [],
   "source": [
    "from graphviz import Digraph # for mac: brew install graphviz\n",
    "\n",
    "def trace(root):\n",
    "    \n",
    "    # builds a set of all nodes and edges in a graph\n",
    "    nodes, edges = set (), set ()\n",
    "    \n",
    "    def build (v):\n",
    "        \n",
    "        if v not in nodes:\n",
    "            nodes.add(v)\n",
    "            \n",
    "        for child in v._prev:\n",
    "            edges.add((child, v))\n",
    "            build(child)\n",
    "    build(root)\n",
    "    return nodes, edges\n",
    "\n",
    "def draw_dot (root):\n",
    "    \n",
    "    dot = Digraph(format='svg', graph_attr={'rankdir': 'LR'}) # LR = left to right\n",
    "    nodes, edges = trace(root)\n",
    "    \n",
    "    for n in nodes:\n",
    "        uid = str(id(n))\n",
    "        # for any value in the graph, create a rectangular ('record') node for it\n",
    "        dot.node(name = uid, label = \"{ %s| data %.4f | grad %.4f}\" % (n.label,n.data, n.grad), shape='record')\n",
    "                  \n",
    "        if n._op:\n",
    "            #if this value is a result of some operation, create an op node for it\n",
    "            dot.node(name = uid + n._op, label = n._op)\n",
    "            # and connect this node to it\n",
    "            dot.edge(uid + n._op, uid)\n",
    "                      \n",
    "    for n1, n2 in edges:\n",
    "        # connect ni to the on node of n\n",
    "        dot.edge(str(id(n1)), str(id(n2)) + n2._op)\n",
    "    \n",
    "    return dot"
   ]
  },
  {
   "cell_type": "code",
   "execution_count": 37,
   "id": "e00002b0",
   "metadata": {},
   "outputs": [
    {
     "data": {
      "image/svg+xml": [
       "<?xml version=\"1.0\" encoding=\"UTF-8\" standalone=\"no\"?>\n",
       "<!DOCTYPE svg PUBLIC \"-//W3C//DTD SVG 1.1//EN\"\n",
       " \"http://www.w3.org/Graphics/SVG/1.1/DTD/svg11.dtd\">\n",
       "<!-- Generated by graphviz version 7.0.6 (20230106.0513)\n",
       " -->\n",
       "<!-- Pages: 1 -->\n",
       "<svg width=\"1147pt\" height=\"156pt\"\n",
       " viewBox=\"0.00 0.00 1147.00 156.00\" xmlns=\"http://www.w3.org/2000/svg\" xmlns:xlink=\"http://www.w3.org/1999/xlink\">\n",
       "<g id=\"graph0\" class=\"graph\" transform=\"scale(1 1) rotate(0) translate(4 152)\">\n",
       "<polygon fill=\"white\" stroke=\"none\" points=\"-4,4 -4,-152 1143,-152 1143,4 -4,4\"/>\n",
       "<!-- 4762417184 -->\n",
       "<g id=\"node1\" class=\"node\">\n",
       "<title>4762417184</title>\n",
       "<polygon fill=\"none\" stroke=\"black\" points=\"0,-111.5 0,-147.5 185,-147.5 185,-111.5 0,-111.5\"/>\n",
       "<text text-anchor=\"middle\" x=\"11.5\" y=\"-125.8\" font-family=\"Times,serif\" font-size=\"14.00\">a</text>\n",
       "<polyline fill=\"none\" stroke=\"black\" points=\"23,-111.5 23,-147.5\"/>\n",
       "<text text-anchor=\"middle\" x=\"63\" y=\"-125.8\" font-family=\"Times,serif\" font-size=\"14.00\">data 2.0000</text>\n",
       "<polyline fill=\"none\" stroke=\"black\" points=\"103,-111.5 103,-147.5\"/>\n",
       "<text text-anchor=\"middle\" x=\"144\" y=\"-125.8\" font-family=\"Times,serif\" font-size=\"14.00\">grad 0.0000</text>\n",
       "</g>\n",
       "<!-- 4745769888* -->\n",
       "<g id=\"node8\" class=\"node\">\n",
       "<title>4745769888*</title>\n",
       "<ellipse fill=\"none\" stroke=\"black\" cx=\"248\" cy=\"-101.5\" rx=\"27\" ry=\"18\"/>\n",
       "<text text-anchor=\"middle\" x=\"248\" y=\"-97.8\" font-family=\"Times,serif\" font-size=\"14.00\">*</text>\n",
       "</g>\n",
       "<!-- 4762417184&#45;&gt;4745769888* -->\n",
       "<g id=\"edge8\" class=\"edge\">\n",
       "<title>4762417184&#45;&gt;4745769888*</title>\n",
       "<path fill=\"none\" stroke=\"black\" d=\"M184.57,-112.89C193.67,-111.23 202.5,-109.62 210.52,-108.15\"/>\n",
       "<polygon fill=\"black\" stroke=\"black\" points=\"210.91,-111.64 220.12,-106.4 209.65,-104.75 210.91,-111.64\"/>\n",
       "</g>\n",
       "<!-- 4753131600 -->\n",
       "<g id=\"node2\" class=\"node\">\n",
       "<title>4753131600</title>\n",
       "<polygon fill=\"none\" stroke=\"black\" points=\"0,-56.5 0,-92.5 185,-92.5 185,-56.5 0,-56.5\"/>\n",
       "<text text-anchor=\"middle\" x=\"11.5\" y=\"-70.8\" font-family=\"Times,serif\" font-size=\"14.00\">b</text>\n",
       "<polyline fill=\"none\" stroke=\"black\" points=\"23,-56.5 23,-92.5\"/>\n",
       "<text text-anchor=\"middle\" x=\"63\" y=\"-70.8\" font-family=\"Times,serif\" font-size=\"14.00\">data 3.0000</text>\n",
       "<polyline fill=\"none\" stroke=\"black\" points=\"103,-56.5 103,-92.5\"/>\n",
       "<text text-anchor=\"middle\" x=\"144\" y=\"-70.8\" font-family=\"Times,serif\" font-size=\"14.00\">grad 0.0000</text>\n",
       "</g>\n",
       "<!-- 4753131600&#45;&gt;4745769888* -->\n",
       "<g id=\"edge6\" class=\"edge\">\n",
       "<title>4753131600&#45;&gt;4745769888*</title>\n",
       "<path fill=\"none\" stroke=\"black\" d=\"M184.57,-90.52C193.67,-92.12 202.5,-93.67 210.52,-95.08\"/>\n",
       "<polygon fill=\"black\" stroke=\"black\" points=\"209.66,-98.49 220.12,-96.77 210.88,-91.59 209.66,-98.49\"/>\n",
       "</g>\n",
       "<!-- 4762416752 -->\n",
       "<g id=\"node3\" class=\"node\">\n",
       "<title>4762416752</title>\n",
       "<polygon fill=\"none\" stroke=\"black\" points=\"311,-28.5 311,-64.5 496,-64.5 496,-28.5 311,-28.5\"/>\n",
       "<text text-anchor=\"middle\" x=\"322.5\" y=\"-42.8\" font-family=\"Times,serif\" font-size=\"14.00\">c</text>\n",
       "<polyline fill=\"none\" stroke=\"black\" points=\"334,-28.5 334,-64.5\"/>\n",
       "<text text-anchor=\"middle\" x=\"374\" y=\"-42.8\" font-family=\"Times,serif\" font-size=\"14.00\">data 4.0000</text>\n",
       "<polyline fill=\"none\" stroke=\"black\" points=\"414,-28.5 414,-64.5\"/>\n",
       "<text text-anchor=\"middle\" x=\"455\" y=\"-42.8\" font-family=\"Times,serif\" font-size=\"14.00\">grad 0.0000</text>\n",
       "</g>\n",
       "<!-- 4762418432+ -->\n",
       "<g id=\"node5\" class=\"node\">\n",
       "<title>4762418432+</title>\n",
       "<ellipse fill=\"none\" stroke=\"black\" cx=\"559\" cy=\"-73.5\" rx=\"27\" ry=\"18\"/>\n",
       "<text text-anchor=\"middle\" x=\"559\" y=\"-69.8\" font-family=\"Times,serif\" font-size=\"14.00\">+</text>\n",
       "</g>\n",
       "<!-- 4762416752&#45;&gt;4762418432+ -->\n",
       "<g id=\"edge7\" class=\"edge\">\n",
       "<title>4762416752&#45;&gt;4762418432+</title>\n",
       "<path fill=\"none\" stroke=\"black\" d=\"M495.57,-62.52C504.67,-64.12 513.5,-65.67 521.52,-67.08\"/>\n",
       "<polygon fill=\"black\" stroke=\"black\" points=\"520.66,-70.49 531.12,-68.77 521.88,-63.59 520.66,-70.49\"/>\n",
       "</g>\n",
       "<!-- 4762418432 -->\n",
       "<g id=\"node4\" class=\"node\">\n",
       "<title>4762418432</title>\n",
       "<polygon fill=\"none\" stroke=\"black\" points=\"622,-55.5 622,-91.5 814,-91.5 814,-55.5 622,-55.5\"/>\n",
       "<text text-anchor=\"middle\" x=\"633.5\" y=\"-69.8\" font-family=\"Times,serif\" font-size=\"14.00\">e</text>\n",
       "<polyline fill=\"none\" stroke=\"black\" points=\"645,-55.5 645,-91.5\"/>\n",
       "<text text-anchor=\"middle\" x=\"688.5\" y=\"-69.8\" font-family=\"Times,serif\" font-size=\"14.00\">data 10.0000</text>\n",
       "<polyline fill=\"none\" stroke=\"black\" points=\"732,-55.5 732,-91.5\"/>\n",
       "<text text-anchor=\"middle\" x=\"773\" y=\"-69.8\" font-family=\"Times,serif\" font-size=\"14.00\">grad 0.0000</text>\n",
       "</g>\n",
       "<!-- 4744274368* -->\n",
       "<g id=\"node10\" class=\"node\">\n",
       "<title>4744274368*</title>\n",
       "<ellipse fill=\"none\" stroke=\"black\" cx=\"877\" cy=\"-45.5\" rx=\"27\" ry=\"18\"/>\n",
       "<text text-anchor=\"middle\" x=\"877\" y=\"-41.8\" font-family=\"Times,serif\" font-size=\"14.00\">*</text>\n",
       "</g>\n",
       "<!-- 4762418432&#45;&gt;4744274368* -->\n",
       "<g id=\"edge4\" class=\"edge\">\n",
       "<title>4762418432&#45;&gt;4744274368*</title>\n",
       "<path fill=\"none\" stroke=\"black\" d=\"M813.95,-56.57C822.87,-54.98 831.49,-53.44 839.33,-52.04\"/>\n",
       "<polygon fill=\"black\" stroke=\"black\" points=\"839.84,-55.5 849.07,-50.3 838.61,-48.61 839.84,-55.5\"/>\n",
       "</g>\n",
       "<!-- 4762418432+&#45;&gt;4762418432 -->\n",
       "<g id=\"edge1\" class=\"edge\">\n",
       "<title>4762418432+&#45;&gt;4762418432</title>\n",
       "<path fill=\"none\" stroke=\"black\" d=\"M586.28,-73.5C593.52,-73.5 601.85,-73.5 610.72,-73.5\"/>\n",
       "<polygon fill=\"black\" stroke=\"black\" points=\"610.69,-77 620.69,-73.5 610.69,-70 610.69,-77\"/>\n",
       "</g>\n",
       "<!-- 4753139072 -->\n",
       "<g id=\"node6\" class=\"node\">\n",
       "<title>4753139072</title>\n",
       "<polygon fill=\"none\" stroke=\"black\" points=\"624,-0.5 624,-36.5 812,-36.5 812,-0.5 624,-0.5\"/>\n",
       "<text text-anchor=\"middle\" x=\"634.5\" y=\"-14.8\" font-family=\"Times,serif\" font-size=\"14.00\">f</text>\n",
       "<polyline fill=\"none\" stroke=\"black\" points=\"645,-0.5 645,-36.5\"/>\n",
       "<text text-anchor=\"middle\" x=\"687.5\" y=\"-14.8\" font-family=\"Times,serif\" font-size=\"14.00\">data &#45;3.0000</text>\n",
       "<polyline fill=\"none\" stroke=\"black\" points=\"730,-0.5 730,-36.5\"/>\n",
       "<text text-anchor=\"middle\" x=\"771\" y=\"-14.8\" font-family=\"Times,serif\" font-size=\"14.00\">grad 0.0000</text>\n",
       "</g>\n",
       "<!-- 4753139072&#45;&gt;4744274368* -->\n",
       "<g id=\"edge9\" class=\"edge\">\n",
       "<title>4753139072&#45;&gt;4744274368*</title>\n",
       "<path fill=\"none\" stroke=\"black\" d=\"M811.69,-34.44C821.35,-36.1 830.71,-37.71 839.16,-39.16\"/>\n",
       "<polygon fill=\"black\" stroke=\"black\" points=\"838.5,-42.6 848.95,-40.85 839.69,-35.7 838.5,-42.6\"/>\n",
       "</g>\n",
       "<!-- 4745769888 -->\n",
       "<g id=\"node7\" class=\"node\">\n",
       "<title>4745769888</title>\n",
       "<polygon fill=\"none\" stroke=\"black\" points=\"311,-83.5 311,-119.5 496,-119.5 496,-83.5 311,-83.5\"/>\n",
       "<text text-anchor=\"middle\" x=\"322.5\" y=\"-97.8\" font-family=\"Times,serif\" font-size=\"14.00\">d</text>\n",
       "<polyline fill=\"none\" stroke=\"black\" points=\"334,-83.5 334,-119.5\"/>\n",
       "<text text-anchor=\"middle\" x=\"374\" y=\"-97.8\" font-family=\"Times,serif\" font-size=\"14.00\">data 6.0000</text>\n",
       "<polyline fill=\"none\" stroke=\"black\" points=\"414,-83.5 414,-119.5\"/>\n",
       "<text text-anchor=\"middle\" x=\"455\" y=\"-97.8\" font-family=\"Times,serif\" font-size=\"14.00\">grad 0.0000</text>\n",
       "</g>\n",
       "<!-- 4745769888&#45;&gt;4762418432+ -->\n",
       "<g id=\"edge5\" class=\"edge\">\n",
       "<title>4745769888&#45;&gt;4762418432+</title>\n",
       "<path fill=\"none\" stroke=\"black\" d=\"M495.57,-84.89C504.67,-83.23 513.5,-81.62 521.52,-80.15\"/>\n",
       "<polygon fill=\"black\" stroke=\"black\" points=\"521.91,-83.64 531.12,-78.4 520.65,-76.75 521.91,-83.64\"/>\n",
       "</g>\n",
       "<!-- 4745769888*&#45;&gt;4745769888 -->\n",
       "<g id=\"edge2\" class=\"edge\">\n",
       "<title>4745769888*&#45;&gt;4745769888</title>\n",
       "<path fill=\"none\" stroke=\"black\" d=\"M275.39,-101.5C282.62,-101.5 290.92,-101.5 299.74,-101.5\"/>\n",
       "<polygon fill=\"black\" stroke=\"black\" points=\"299.64,-105 309.64,-101.5 299.64,-98 299.64,-105\"/>\n",
       "</g>\n",
       "<!-- 4744274368 -->\n",
       "<g id=\"node9\" class=\"node\">\n",
       "<title>4744274368</title>\n",
       "<polygon fill=\"none\" stroke=\"black\" points=\"940,-27.5 940,-63.5 1139,-63.5 1139,-27.5 940,-27.5\"/>\n",
       "<text text-anchor=\"middle\" x=\"952.5\" y=\"-41.8\" font-family=\"Times,serif\" font-size=\"14.00\">L</text>\n",
       "<polyline fill=\"none\" stroke=\"black\" points=\"965,-27.5 965,-63.5\"/>\n",
       "<text text-anchor=\"middle\" x=\"1011\" y=\"-41.8\" font-family=\"Times,serif\" font-size=\"14.00\">data &#45;30.0000</text>\n",
       "<polyline fill=\"none\" stroke=\"black\" points=\"1057,-27.5 1057,-63.5\"/>\n",
       "<text text-anchor=\"middle\" x=\"1098\" y=\"-41.8\" font-family=\"Times,serif\" font-size=\"14.00\">grad 0.0000</text>\n",
       "</g>\n",
       "<!-- 4744274368*&#45;&gt;4744274368 -->\n",
       "<g id=\"edge3\" class=\"edge\">\n",
       "<title>4744274368*&#45;&gt;4744274368</title>\n",
       "<path fill=\"none\" stroke=\"black\" d=\"M904.14,-45.5C911.47,-45.5 919.92,-45.5 928.95,-45.5\"/>\n",
       "<polygon fill=\"black\" stroke=\"black\" points=\"928.69,-49 938.69,-45.5 928.69,-42 928.69,-49\"/>\n",
       "</g>\n",
       "</g>\n",
       "</svg>\n"
      ],
      "text/plain": [
       "<graphviz.graphs.Digraph at 0x11c33a1f0>"
      ]
     },
     "execution_count": 37,
     "metadata": {},
     "output_type": "execute_result"
    }
   ],
   "source": [
    "draw_dot(L)"
   ]
  },
  {
   "cell_type": "markdown",
   "id": "58d8ebc0",
   "metadata": {},
   "source": [
    "L = d*f\n",
    "\n",
    "dl/dd = ? = f\n",
    "\n",
    "(f(x+h)-f(h))/h\n",
    "\n",
    "((d+h) * f) - d*f / h\n",
    "\n",
    "h*f/h\n",
    "\n",
    "f\n"
   ]
  },
  {
   "cell_type": "markdown",
   "id": "72bd6973",
   "metadata": {},
   "source": [
    "dl/dc = ?\n",
    "\n",
    "dl/dd * dd/ dc\n",
    "\n",
    "d = c + e\n",
    "\n",
    "(f(x+h)-f(h))/h \n",
    "\n",
    "c + h + e - c - h / h\n",
    "\n",
    "h/h = 1.0\n",
    "\n",
    "dd/dc = dd/de = 1"
   ]
  },
  {
   "cell_type": "code",
   "execution_count": 70,
   "id": "45b2f6a4",
   "metadata": {},
   "outputs": [],
   "source": [
    "# Manual Backprop\n",
    "def get_grads():\n",
    "    \n",
    "    h = 0.001\n",
    "    a = Value (2.0, label='a')\n",
    "    b = Value(-3.0, label='b')\n",
    "    c = Value (10.0, label='c')\n",
    "    d = a*b; d.label = 'd'\n",
    "    e = c+d; e.label = 'e'\n",
    "    f = Value(-2.0, label='f')\n",
    "    L = e * f; L. label = 'L'\n",
    "    L1 = L.data\n",
    "    \n",
    "\n",
    "    a = Value (2.0, label='a')\n",
    "    \n",
    "    b = Value(-3.0, label='b')\n",
    "    \n",
    "    c = Value (10.0, label='c')\n",
    "    c.data +=h\n",
    "    d = a*b; d.label = 'd'\n",
    "    \n",
    "    e = c+d; e.label = 'e' \n",
    "    f = Value(-2.0, label='f')\n",
    "    L = e * f; L. label = 'L'\n",
    "    L2 = L.data\n",
    "    \n",
    "    print ((L2 - L1) /h)"
   ]
  },
  {
   "cell_type": "code",
   "execution_count": 71,
   "id": "1806fe33",
   "metadata": {},
   "outputs": [
    {
     "name": "stdout",
     "output_type": "stream",
     "text": [
      "-1.9999999999988916\n"
     ]
    }
   ],
   "source": [
    "get_grads()"
   ]
  },
  {
   "cell_type": "code",
   "execution_count": 72,
   "id": "3d55edbf",
   "metadata": {},
   "outputs": [],
   "source": [
    "L.grad = 1.0\n",
    "e.grad = -2.0\n",
    "f.grad = 4.0\n",
    "c.grad = -2.0\n",
    "d.grad = -2.0\n",
    "a.grad = 6.0\n",
    "b.grad = -4.0"
   ]
  },
  {
   "cell_type": "code",
   "execution_count": 73,
   "id": "7630326d",
   "metadata": {},
   "outputs": [
    {
     "data": {
      "image/svg+xml": [
       "<?xml version=\"1.0\" encoding=\"UTF-8\" standalone=\"no\"?>\n",
       "<!DOCTYPE svg PUBLIC \"-//W3C//DTD SVG 1.1//EN\"\n",
       " \"http://www.w3.org/Graphics/SVG/1.1/DTD/svg11.dtd\">\n",
       "<!-- Generated by graphviz version 7.0.6 (20230106.0513)\n",
       " -->\n",
       "<!-- Pages: 1 -->\n",
       "<svg width=\"1159pt\" height=\"156pt\"\n",
       " viewBox=\"0.00 0.00 1159.00 156.00\" xmlns=\"http://www.w3.org/2000/svg\" xmlns:xlink=\"http://www.w3.org/1999/xlink\">\n",
       "<g id=\"graph0\" class=\"graph\" transform=\"scale(1 1) rotate(0) translate(4 152)\">\n",
       "<polygon fill=\"white\" stroke=\"none\" points=\"-4,4 -4,-152 1155,-152 1155,4 -4,4\"/>\n",
       "<!-- 4762417184 -->\n",
       "<g id=\"node1\" class=\"node\">\n",
       "<title>4762417184</title>\n",
       "<polygon fill=\"none\" stroke=\"black\" points=\"2,-111.5 2,-147.5 187,-147.5 187,-111.5 2,-111.5\"/>\n",
       "<text text-anchor=\"middle\" x=\"13.5\" y=\"-125.8\" font-family=\"Times,serif\" font-size=\"14.00\">a</text>\n",
       "<polyline fill=\"none\" stroke=\"black\" points=\"25,-111.5 25,-147.5\"/>\n",
       "<text text-anchor=\"middle\" x=\"65\" y=\"-125.8\" font-family=\"Times,serif\" font-size=\"14.00\">data 2.0000</text>\n",
       "<polyline fill=\"none\" stroke=\"black\" points=\"105,-111.5 105,-147.5\"/>\n",
       "<text text-anchor=\"middle\" x=\"146\" y=\"-125.8\" font-family=\"Times,serif\" font-size=\"14.00\">grad 6.0000</text>\n",
       "</g>\n",
       "<!-- 4745769888* -->\n",
       "<g id=\"node8\" class=\"node\">\n",
       "<title>4745769888*</title>\n",
       "<ellipse fill=\"none\" stroke=\"black\" cx=\"252\" cy=\"-101.5\" rx=\"27\" ry=\"18\"/>\n",
       "<text text-anchor=\"middle\" x=\"252\" y=\"-97.8\" font-family=\"Times,serif\" font-size=\"14.00\">*</text>\n",
       "</g>\n",
       "<!-- 4762417184&#45;&gt;4745769888* -->\n",
       "<g id=\"edge8\" class=\"edge\">\n",
       "<title>4762417184&#45;&gt;4745769888*</title>\n",
       "<path fill=\"none\" stroke=\"black\" d=\"M186.85,-113.05C196.47,-111.32 205.8,-109.64 214.23,-108.12\"/>\n",
       "<polygon fill=\"black\" stroke=\"black\" points=\"214.77,-111.58 223.99,-106.36 213.53,-104.69 214.77,-111.58\"/>\n",
       "</g>\n",
       "<!-- 4753131600 -->\n",
       "<g id=\"node2\" class=\"node\">\n",
       "<title>4753131600</title>\n",
       "<polygon fill=\"none\" stroke=\"black\" points=\"0,-56.5 0,-92.5 189,-92.5 189,-56.5 0,-56.5\"/>\n",
       "<text text-anchor=\"middle\" x=\"11.5\" y=\"-70.8\" font-family=\"Times,serif\" font-size=\"14.00\">b</text>\n",
       "<polyline fill=\"none\" stroke=\"black\" points=\"23,-56.5 23,-92.5\"/>\n",
       "<text text-anchor=\"middle\" x=\"63\" y=\"-70.8\" font-family=\"Times,serif\" font-size=\"14.00\">data 3.0000</text>\n",
       "<polyline fill=\"none\" stroke=\"black\" points=\"103,-56.5 103,-92.5\"/>\n",
       "<text text-anchor=\"middle\" x=\"146\" y=\"-70.8\" font-family=\"Times,serif\" font-size=\"14.00\">grad &#45;4.0000</text>\n",
       "</g>\n",
       "<!-- 4753131600&#45;&gt;4745769888* -->\n",
       "<g id=\"edge6\" class=\"edge\">\n",
       "<title>4753131600&#45;&gt;4745769888*</title>\n",
       "<path fill=\"none\" stroke=\"black\" d=\"M188.65,-90.67C197.58,-92.22 206.23,-93.73 214.11,-95.09\"/>\n",
       "<polygon fill=\"black\" stroke=\"black\" points=\"213.45,-98.53 223.9,-96.79 214.64,-91.63 213.45,-98.53\"/>\n",
       "</g>\n",
       "<!-- 4762416752 -->\n",
       "<g id=\"node3\" class=\"node\">\n",
       "<title>4762416752</title>\n",
       "<polygon fill=\"none\" stroke=\"black\" points=\"315,-28.5 315,-64.5 504,-64.5 504,-28.5 315,-28.5\"/>\n",
       "<text text-anchor=\"middle\" x=\"326.5\" y=\"-42.8\" font-family=\"Times,serif\" font-size=\"14.00\">c</text>\n",
       "<polyline fill=\"none\" stroke=\"black\" points=\"338,-28.5 338,-64.5\"/>\n",
       "<text text-anchor=\"middle\" x=\"378\" y=\"-42.8\" font-family=\"Times,serif\" font-size=\"14.00\">data 4.0000</text>\n",
       "<polyline fill=\"none\" stroke=\"black\" points=\"418,-28.5 418,-64.5\"/>\n",
       "<text text-anchor=\"middle\" x=\"461\" y=\"-42.8\" font-family=\"Times,serif\" font-size=\"14.00\">grad &#45;2.0000</text>\n",
       "</g>\n",
       "<!-- 4762418432+ -->\n",
       "<g id=\"node5\" class=\"node\">\n",
       "<title>4762418432+</title>\n",
       "<ellipse fill=\"none\" stroke=\"black\" cx=\"567\" cy=\"-73.5\" rx=\"27\" ry=\"18\"/>\n",
       "<text text-anchor=\"middle\" x=\"567\" y=\"-69.8\" font-family=\"Times,serif\" font-size=\"14.00\">+</text>\n",
       "</g>\n",
       "<!-- 4762416752&#45;&gt;4762418432+ -->\n",
       "<g id=\"edge7\" class=\"edge\">\n",
       "<title>4762416752&#45;&gt;4762418432+</title>\n",
       "<path fill=\"none\" stroke=\"black\" d=\"M503.65,-62.67C512.58,-64.22 521.23,-65.73 529.11,-67.09\"/>\n",
       "<polygon fill=\"black\" stroke=\"black\" points=\"528.45,-70.53 538.9,-68.79 529.64,-63.63 528.45,-70.53\"/>\n",
       "</g>\n",
       "<!-- 4762418432 -->\n",
       "<g id=\"node4\" class=\"node\">\n",
       "<title>4762418432</title>\n",
       "<polygon fill=\"none\" stroke=\"black\" points=\"630,-55.5 630,-91.5 826,-91.5 826,-55.5 630,-55.5\"/>\n",
       "<text text-anchor=\"middle\" x=\"641.5\" y=\"-69.8\" font-family=\"Times,serif\" font-size=\"14.00\">e</text>\n",
       "<polyline fill=\"none\" stroke=\"black\" points=\"653,-55.5 653,-91.5\"/>\n",
       "<text text-anchor=\"middle\" x=\"696.5\" y=\"-69.8\" font-family=\"Times,serif\" font-size=\"14.00\">data 10.0000</text>\n",
       "<polyline fill=\"none\" stroke=\"black\" points=\"740,-55.5 740,-91.5\"/>\n",
       "<text text-anchor=\"middle\" x=\"783\" y=\"-69.8\" font-family=\"Times,serif\" font-size=\"14.00\">grad &#45;2.0000</text>\n",
       "</g>\n",
       "<!-- 4744274368* -->\n",
       "<g id=\"node10\" class=\"node\">\n",
       "<title>4744274368*</title>\n",
       "<ellipse fill=\"none\" stroke=\"black\" cx=\"889\" cy=\"-45.5\" rx=\"27\" ry=\"18\"/>\n",
       "<text text-anchor=\"middle\" x=\"889\" y=\"-41.8\" font-family=\"Times,serif\" font-size=\"14.00\">*</text>\n",
       "</g>\n",
       "<!-- 4762418432&#45;&gt;4744274368* -->\n",
       "<g id=\"edge4\" class=\"edge\">\n",
       "<title>4762418432&#45;&gt;4744274368*</title>\n",
       "<path fill=\"none\" stroke=\"black\" d=\"M825.62,-56.49C834.6,-54.9 843.27,-53.38 851.15,-51.99\"/>\n",
       "<polygon fill=\"black\" stroke=\"black\" points=\"851.71,-55.44 860.95,-50.26 850.5,-48.55 851.71,-55.44\"/>\n",
       "</g>\n",
       "<!-- 4762418432+&#45;&gt;4762418432 -->\n",
       "<g id=\"edge1\" class=\"edge\">\n",
       "<title>4762418432+&#45;&gt;4762418432</title>\n",
       "<path fill=\"none\" stroke=\"black\" d=\"M594.26,-73.5C601.59,-73.5 610.05,-73.5 619.07,-73.5\"/>\n",
       "<polygon fill=\"black\" stroke=\"black\" points=\"618.8,-77 628.8,-73.5 618.8,-70 618.8,-77\"/>\n",
       "</g>\n",
       "<!-- 4753139072 -->\n",
       "<g id=\"node6\" class=\"node\">\n",
       "<title>4753139072</title>\n",
       "<polygon fill=\"none\" stroke=\"black\" points=\"634,-0.5 634,-36.5 822,-36.5 822,-0.5 634,-0.5\"/>\n",
       "<text text-anchor=\"middle\" x=\"644.5\" y=\"-14.8\" font-family=\"Times,serif\" font-size=\"14.00\">f</text>\n",
       "<polyline fill=\"none\" stroke=\"black\" points=\"655,-0.5 655,-36.5\"/>\n",
       "<text text-anchor=\"middle\" x=\"697.5\" y=\"-14.8\" font-family=\"Times,serif\" font-size=\"14.00\">data &#45;3.0000</text>\n",
       "<polyline fill=\"none\" stroke=\"black\" points=\"740,-0.5 740,-36.5\"/>\n",
       "<text text-anchor=\"middle\" x=\"781\" y=\"-14.8\" font-family=\"Times,serif\" font-size=\"14.00\">grad 4.0000</text>\n",
       "</g>\n",
       "<!-- 4753139072&#45;&gt;4744274368* -->\n",
       "<g id=\"edge9\" class=\"edge\">\n",
       "<title>4753139072&#45;&gt;4744274368*</title>\n",
       "<path fill=\"none\" stroke=\"black\" d=\"M821.95,-34.28C832.25,-36.03 842.24,-37.73 851.2,-39.25\"/>\n",
       "<polygon fill=\"black\" stroke=\"black\" points=\"850.39,-42.66 860.84,-40.89 851.57,-35.76 850.39,-42.66\"/>\n",
       "</g>\n",
       "<!-- 4745769888 -->\n",
       "<g id=\"node7\" class=\"node\">\n",
       "<title>4745769888</title>\n",
       "<polygon fill=\"none\" stroke=\"black\" points=\"315,-83.5 315,-119.5 504,-119.5 504,-83.5 315,-83.5\"/>\n",
       "<text text-anchor=\"middle\" x=\"326.5\" y=\"-97.8\" font-family=\"Times,serif\" font-size=\"14.00\">d</text>\n",
       "<polyline fill=\"none\" stroke=\"black\" points=\"338,-83.5 338,-119.5\"/>\n",
       "<text text-anchor=\"middle\" x=\"378\" y=\"-97.8\" font-family=\"Times,serif\" font-size=\"14.00\">data 6.0000</text>\n",
       "<polyline fill=\"none\" stroke=\"black\" points=\"418,-83.5 418,-119.5\"/>\n",
       "<text text-anchor=\"middle\" x=\"461\" y=\"-97.8\" font-family=\"Times,serif\" font-size=\"14.00\">grad &#45;2.0000</text>\n",
       "</g>\n",
       "<!-- 4745769888&#45;&gt;4762418432+ -->\n",
       "<g id=\"edge5\" class=\"edge\">\n",
       "<title>4745769888&#45;&gt;4762418432+</title>\n",
       "<path fill=\"none\" stroke=\"black\" d=\"M503.65,-84.73C512.58,-83.12 521.23,-81.56 529.11,-80.14\"/>\n",
       "<polygon fill=\"black\" stroke=\"black\" points=\"529.68,-83.6 538.9,-78.38 528.44,-76.71 529.68,-83.6\"/>\n",
       "</g>\n",
       "<!-- 4745769888*&#45;&gt;4745769888 -->\n",
       "<g id=\"edge2\" class=\"edge\">\n",
       "<title>4745769888*&#45;&gt;4745769888</title>\n",
       "<path fill=\"none\" stroke=\"black\" d=\"M279.38,-101.5C286.63,-101.5 294.96,-101.5 303.82,-101.5\"/>\n",
       "<polygon fill=\"black\" stroke=\"black\" points=\"303.77,-105 313.77,-101.5 303.77,-98 303.77,-105\"/>\n",
       "</g>\n",
       "<!-- 4744274368 -->\n",
       "<g id=\"node9\" class=\"node\">\n",
       "<title>4744274368</title>\n",
       "<polygon fill=\"none\" stroke=\"black\" points=\"952,-27.5 952,-63.5 1151,-63.5 1151,-27.5 952,-27.5\"/>\n",
       "<text text-anchor=\"middle\" x=\"964.5\" y=\"-41.8\" font-family=\"Times,serif\" font-size=\"14.00\">L</text>\n",
       "<polyline fill=\"none\" stroke=\"black\" points=\"977,-27.5 977,-63.5\"/>\n",
       "<text text-anchor=\"middle\" x=\"1023\" y=\"-41.8\" font-family=\"Times,serif\" font-size=\"14.00\">data &#45;30.0000</text>\n",
       "<polyline fill=\"none\" stroke=\"black\" points=\"1069,-27.5 1069,-63.5\"/>\n",
       "<text text-anchor=\"middle\" x=\"1110\" y=\"-41.8\" font-family=\"Times,serif\" font-size=\"14.00\">grad 1.0000</text>\n",
       "</g>\n",
       "<!-- 4744274368*&#45;&gt;4744274368 -->\n",
       "<g id=\"edge3\" class=\"edge\">\n",
       "<title>4744274368*&#45;&gt;4744274368</title>\n",
       "<path fill=\"none\" stroke=\"black\" d=\"M916.14,-45.5C923.47,-45.5 931.92,-45.5 940.95,-45.5\"/>\n",
       "<polygon fill=\"black\" stroke=\"black\" points=\"940.69,-49 950.69,-45.5 940.69,-42 940.69,-49\"/>\n",
       "</g>\n",
       "</g>\n",
       "</svg>\n"
      ],
      "text/plain": [
       "<graphviz.graphs.Digraph at 0x11cdb0520>"
      ]
     },
     "execution_count": 73,
     "metadata": {},
     "output_type": "execute_result"
    }
   ],
   "source": [
    "draw_dot(L)"
   ]
  },
  {
   "cell_type": "code",
   "execution_count": 74,
   "id": "3a814906",
   "metadata": {},
   "outputs": [
    {
     "name": "stdout",
     "output_type": "stream",
     "text": [
      "Value(data=-29.829696000000002)\n"
     ]
    }
   ],
   "source": [
    "# manual forward prop\n",
    "a.data += 0.01 * a.grad\n",
    "b.data += 0.01 * b.grad\n",
    "c.data += 0.01 * c.grad\n",
    "f.data += 0.01 * f.grad\n",
    "\n",
    "d = a * b\n",
    "\n",
    "e = d + c\n",
    "\n",
    "L = e * f\n",
    "\n",
    "print(L)"
   ]
  },
  {
   "cell_type": "code",
   "execution_count": null,
   "id": "b537a185",
   "metadata": {},
   "outputs": [],
   "source": []
  }
 ],
 "metadata": {
  "kernelspec": {
   "display_name": "Python 3 (ipykernel)",
   "language": "python",
   "name": "python3"
  },
  "language_info": {
   "codemirror_mode": {
    "name": "ipython",
    "version": 3
   },
   "file_extension": ".py",
   "mimetype": "text/x-python",
   "name": "python",
   "nbconvert_exporter": "python",
   "pygments_lexer": "ipython3",
   "version": "3.9.13"
  }
 },
 "nbformat": 4,
 "nbformat_minor": 5
}
